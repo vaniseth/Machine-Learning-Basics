{
  "cells": [
    {
      "cell_type": "markdown",
      "metadata": {
        "id": "view-in-github",
        "colab_type": "text"
      },
      "source": [
        "<a href=\"https://colab.research.google.com/github/vaniseth/Machine-Learning-Python-/blob/main/NUMPY_ipynb.ipynb\" target=\"_parent\"><img src=\"https://colab.research.google.com/assets/colab-badge.svg\" alt=\"Open In Colab\"/></a>"
      ]
    },
    {
      "cell_type": "code",
      "execution_count": null,
      "metadata": {
        "colab": {
          "base_uri": "https://localhost:8080/"
        },
        "id": "ZruzdK5qdKKE",
        "outputId": "4132db24-3c4b-49c2-9582-2d004ecd23d6"
      },
      "outputs": [
        {
          "name": "stdout",
          "output_type": "stream",
          "text": [
            "Requirement already satisfied: numpy in /usr/local/lib/python3.7/dist-packages (1.21.5)\n"
          ]
        }
      ],
      "source": [
        "# Q1 Install Numpy\n",
        "!pip install numpy "
      ]
    },
    {
      "cell_type": "code",
      "execution_count": null,
      "metadata": {
        "id": "Tirz5HOZdTSL"
      },
      "outputs": [],
      "source": [
        "import numpy as np"
      ]
    },
    {
      "cell_type": "code",
      "execution_count": null,
      "metadata": {
        "colab": {
          "base_uri": "https://localhost:8080/",
          "height": 35
        },
        "id": "JWmd0fYkdxta",
        "outputId": "4b7a080a-48a7-4e7b-9ad4-3727a146a093"
      },
      "outputs": [
        {
          "data": {
            "application/vnd.google.colaboratory.intrinsic+json": {
              "type": "string"
            },
            "text/plain": [
              "'1.21.5'"
            ]
          },
          "execution_count": 4,
          "metadata": {},
          "output_type": "execute_result"
        }
      ],
      "source": [
        "# Q2 Check the Numpy version installed\n",
        "np.__version__"
      ]
    },
    {
      "cell_type": "code",
      "execution_count": null,
      "metadata": {
        "id": "mrkJ75kId68x"
      },
      "outputs": [],
      "source": [
        "# Q3 Create a 1-D array in numpy\n",
        "arr = np.array([1,2,3,4])"
      ]
    },
    {
      "cell_type": "code",
      "execution_count": null,
      "metadata": {
        "colab": {
          "base_uri": "https://localhost:8080/"
        },
        "id": "pX1v-Ok4eREU",
        "outputId": "90126e90-4ea5-488c-dead-87712bd589c5"
      },
      "outputs": [
        {
          "name": "stdout",
          "output_type": "stream",
          "text": [
            "[1 2 3 4]\n"
          ]
        }
      ],
      "source": [
        "#Q4 Use list to create 1D array (you may specify data type i.e. dtype = 'int16)\n",
        "lst = [1,2,3,4]\n",
        "arr = np.array(lst, dtype = 'int16')\n",
        "print(arr)"
      ]
    },
    {
      "cell_type": "code",
      "execution_count": null,
      "metadata": {
        "colab": {
          "base_uri": "https://localhost:8080/"
        },
        "id": "6OZAgzkgeXkm",
        "outputId": "ec8b19eb-4144-4d25-e9d4-7252761507de"
      },
      "outputs": [
        {
          "name": "stdout",
          "output_type": "stream",
          "text": [
            "[1 2 3 4]\n"
          ]
        }
      ],
      "source": [
        "#Q5 Use tuple to create 1D array\n",
        "tup = (1,2,3,4)\n",
        "arr = np.array(tup)\n",
        "print(arr)"
      ]
    },
    {
      "cell_type": "code",
      "execution_count": null,
      "metadata": {
        "colab": {
          "base_uri": "https://localhost:8080/"
        },
        "id": "LbvYjKQLfDlA",
        "outputId": "508f2694-18d5-435f-f1fd-4d82823255be"
      },
      "outputs": [
        {
          "name": "stdout",
          "output_type": "stream",
          "text": [
            "[ 1  4  7 10 13 16 19 22 25 28 31 34 37 40 43 46 49]\n"
          ]
        }
      ],
      "source": [
        "#Q6 Use arrange function to create 1D array of int\n",
        "print(np.arange(1,50,3))"
      ]
    },
    {
      "cell_type": "code",
      "execution_count": null,
      "metadata": {
        "colab": {
          "base_uri": "https://localhost:8080/"
        },
        "id": "1qzifSdqfU93",
        "outputId": "43245875-5472-40be-b626-1a71a6b71cb4"
      },
      "outputs": [
        {
          "name": "stdout",
          "output_type": "stream",
          "text": [
            "[1.  1.1 1.2 1.3 1.4 1.5 1.6 1.7 1.8 1.9]\n"
          ]
        }
      ],
      "source": [
        "#Q7 Use arrange function to create 1D array of float\n",
        "print(np.arange(1,2,0.1))"
      ]
    },
    {
      "cell_type": "code",
      "execution_count": null,
      "metadata": {
        "colab": {
          "base_uri": "https://localhost:8080/"
        },
        "id": "4xcCOd_ggFOq",
        "outputId": "fcf4b427-7eda-4810-b4d3-7a06adb7245f"
      },
      "outputs": [
        {
          "name": "stdout",
          "output_type": "stream",
          "text": [
            "[1.  2.4 3.  4.5]\n"
          ]
        }
      ],
      "source": [
        "#Q8 Create 1D array of mixed elements int and float, and print the array and see the output\n",
        "lst = [1, 2.4, 3, 4.5]\n",
        "print(np.array(lst))"
      ]
    },
    {
      "cell_type": "code",
      "execution_count": null,
      "metadata": {
        "colab": {
          "base_uri": "https://localhost:8080/"
        },
        "id": "6iC8z-KahXFd",
        "outputId": "d5c6094a-248f-49de-d606-221fa2f7500f"
      },
      "outputs": [
        {
          "name": "stdout",
          "output_type": "stream",
          "text": [
            "['1' '2.6' '5' '6.8' 'vaani']\n"
          ]
        }
      ],
      "source": [
        "#Q9 Create 1D array of mixed elements int, float, and str, then print the array and see the output.\n",
        "lst = [1,2.6,5,6.8, 'vaani']\n",
        "print(np.array(lst))"
      ]
    },
    {
      "cell_type": "code",
      "execution_count": null,
      "metadata": {
        "colab": {
          "base_uri": "https://localhost:8080/"
        },
        "id": "pb5qp4l-iKph",
        "outputId": "02de34d7-7bc2-469d-ef5b-c89196e77f44"
      },
      "outputs": [
        {
          "data": {
            "text/plain": [
              "array([[1, 2],\n",
              "       [3, 4]])"
            ]
          },
          "execution_count": 26,
          "metadata": {},
          "output_type": "execute_result"
        }
      ],
      "source": [
        "#Q10 Create 2D array of dimensions 2x2\n",
        "arr = np.array([[1,2],[3,4]])\n",
        "arr"
      ]
    },
    {
      "cell_type": "code",
      "execution_count": null,
      "metadata": {
        "colab": {
          "base_uri": "https://localhost:8080/"
        },
        "id": "5pwNFsWDjTeg",
        "outputId": "b856a167-a99a-4e81-9816-a10dca340348"
      },
      "outputs": [
        {
          "name": "stdout",
          "output_type": "stream",
          "text": [
            "[[1 2]\n",
            " [3 4]]\n",
            "(2, 2)\n",
            "8\n",
            "32\n"
          ]
        }
      ],
      "source": [
        "#Q11 Print the shape , size and memory used by this array in bytes (use itemsize, or nbytes)\n",
        "arr = np.array([[1,2],[3,4]])\n",
        "print(arr)\n",
        "print(arr.shape)\n",
        "print(arr.itemsize)\n",
        "print(arr.nbytes)"
      ]
    },
    {
      "cell_type": "code",
      "execution_count": null,
      "metadata": {
        "colab": {
          "base_uri": "https://localhost:8080/"
        },
        "id": "r-T5tweOkoLR",
        "outputId": "c2df501e-cd46-4efa-ced4-8eb74e86aba3"
      },
      "outputs": [
        {
          "name": "stdout",
          "output_type": "stream",
          "text": [
            "<class 'numpy.ndarray'>\n"
          ]
        }
      ],
      "source": [
        "#Q12 Check the type of any array variable\n",
        "arr = np.array([[1,2],[3,4]])\n",
        "print(type(arr))"
      ]
    },
    {
      "cell_type": "code",
      "execution_count": null,
      "metadata": {
        "colab": {
          "base_uri": "https://localhost:8080/"
        },
        "id": "50-2YQ0hk6OY",
        "outputId": "f382283b-fcef-4ce9-c2e9-b263404d7795"
      },
      "outputs": [
        {
          "name": "stdout",
          "output_type": "stream",
          "text": [
            "[[1 2 3]\n",
            " [4 5 6]\n",
            " [6 7 8]]\n"
          ]
        },
        {
          "data": {
            "text/plain": [
              "array([[1, 2, 3]])"
            ]
          },
          "execution_count": 49,
          "metadata": {},
          "output_type": "execute_result"
        }
      ],
      "source": [
        "#Q13 Check indexing on array wiht the help of exampples\n",
        "arr = np.array([[1,2,3],[4,5,6],[6,7,8]])\n",
        "print(arr)\n",
        "\n",
        "r1 = arr[:1]\n",
        "r1"
      ]
    },
    {
      "cell_type": "code",
      "execution_count": null,
      "metadata": {
        "colab": {
          "base_uri": "https://localhost:8080/"
        },
        "id": "4bemhxqJlY6w",
        "outputId": "d34ee1ea-4214-4e03-cfa9-4f2b81353138"
      },
      "outputs": [
        {
          "data": {
            "text/plain": [
              "array([[1, 2, 3],\n",
              "       [4, 5, 6]])"
            ]
          },
          "execution_count": 48,
          "metadata": {},
          "output_type": "execute_result"
        }
      ],
      "source": [
        "r2 = arr[:2]\n",
        "r2"
      ]
    },
    {
      "cell_type": "code",
      "execution_count": null,
      "metadata": {
        "colab": {
          "base_uri": "https://localhost:8080/"
        },
        "id": "HSA4DpAvn2Hs",
        "outputId": "13ed433e-5f5c-4668-8bc2-f0ecf3785d89"
      },
      "outputs": [
        {
          "data": {
            "text/plain": [
              "array([[1, 2, 3],\n",
              "       [4, 5, 6],\n",
              "       [6, 7, 8]])"
            ]
          },
          "execution_count": 47,
          "metadata": {},
          "output_type": "execute_result"
        }
      ],
      "source": [
        "r3 = arr[:3]\n",
        "r3"
      ]
    },
    {
      "cell_type": "code",
      "execution_count": null,
      "metadata": {
        "colab": {
          "base_uri": "https://localhost:8080/"
        },
        "id": "lciCzekan53e",
        "outputId": "a79509d7-f89a-4f31-b5a7-485c6380cac8"
      },
      "outputs": [
        {
          "data": {
            "text/plain": [
              "array([[[ 0,  1,  2,  3],\n",
              "        [ 4,  5,  6,  7],\n",
              "        [ 8,  9, 10, 11]],\n",
              "\n",
              "       [[12, 13, 14, 15],\n",
              "        [16, 17, 18, 19],\n",
              "        [20, 21, 22, 23]]])"
            ]
          },
          "execution_count": 3,
          "metadata": {},
          "output_type": "execute_result"
        }
      ],
      "source": [
        "#Q14 Using arange fucntion create an 3D array of dimensions = (2,3,4), first element if this array is 0\n",
        "# and last element id 23 in increasing order, store this array in a variable b.\n",
        "a = np.arange(0,24)\n",
        "b= a.reshape(2,3,4)\n",
        "b"
      ]
    },
    {
      "cell_type": "code",
      "execution_count": null,
      "metadata": {
        "colab": {
          "base_uri": "https://localhost:8080/"
        },
        "id": "l7YnwUvCpmOU",
        "outputId": "aba7bb15-960b-4fee-d185-7160ec89b070"
      },
      "outputs": [
        {
          "data": {
            "text/plain": [
              "array([[ 0,  1,  2,  3],\n",
              "       [ 4,  5,  6,  7],\n",
              "       [ 8,  9, 10, 11]])"
            ]
          },
          "execution_count": 14,
          "metadata": {},
          "output_type": "execute_result"
        }
      ],
      "source": [
        "#Q15 What index can produce this output:\n",
        "#array([[ 0, 1, 2, 3],\n",
        "# [ 4, 5, 6, 7],\n",
        "# [ 8, 9, 10, 11]])\n",
        "\n",
        "b[0]"
      ]
    },
    {
      "cell_type": "code",
      "execution_count": null,
      "metadata": {
        "colab": {
          "base_uri": "https://localhost:8080/"
        },
        "id": "cRucabFOqwzN",
        "outputId": "04ecec22-c9ce-4ccc-d23a-ba3136c5f7db"
      },
      "outputs": [
        {
          "data": {
            "text/plain": [
              "0"
            ]
          },
          "execution_count": 15,
          "metadata": {},
          "output_type": "execute_result"
        }
      ],
      "source": [
        "#Q16 What index can produce output: 0\n",
        "b[0,0,0]"
      ]
    },
    {
      "cell_type": "code",
      "execution_count": null,
      "metadata": {
        "colab": {
          "base_uri": "https://localhost:8080/"
        },
        "id": "Li67TUX-rhQL",
        "outputId": "cdc7f8ca-82a6-45ea-df52-4d98c4c7b4f8"
      },
      "outputs": [
        {
          "data": {
            "text/plain": [
              "array([4, 5, 6, 7])"
            ]
          },
          "execution_count": 17,
          "metadata": {},
          "output_type": "execute_result"
        }
      ],
      "source": [
        "#Q17 What index can produce output: array([4,5,6,7])\n",
        "b[0,1]"
      ]
    },
    {
      "cell_type": "code",
      "execution_count": null,
      "metadata": {
        "colab": {
          "base_uri": "https://localhost:8080/"
        },
        "id": "ssF3mRszsPG9",
        "outputId": "38164683-4716-459a-b62b-e9244e40807a"
      },
      "outputs": [
        {
          "data": {
            "text/plain": [
              "array([ 0, 12])"
            ]
          },
          "execution_count": 18,
          "metadata": {},
          "output_type": "execute_result"
        }
      ],
      "source": [
        "#Q18 What index can produce output: array([0,12])\n",
        "b[:,0,0]"
      ]
    },
    {
      "cell_type": "code",
      "execution_count": null,
      "metadata": {
        "id": "1FO3gKfbsfd6"
      },
      "outputs": [],
      "source": [
        "# b= a[:,0]\n",
        "# now let say this is b, now we want the first elements of that so we do a[:,0,0]"
      ]
    },
    {
      "cell_type": "code",
      "execution_count": null,
      "metadata": {
        "colab": {
          "base_uri": "https://localhost:8080/"
        },
        "id": "1pXfxKVrskzP",
        "outputId": "4ada06b0-5f6a-4415-bd15-20205ee18fd5"
      },
      "outputs": [
        {
          "data": {
            "text/plain": [
              "array([[[ 0,  1,  2,  3],\n",
              "        [ 4,  5,  6,  7],\n",
              "        [ 8,  9, 10, 11]],\n",
              "\n",
              "       [[12, 13, 14, 15],\n",
              "        [16, 17, 18, 19],\n",
              "        [20, 21, 22, 23]]])"
            ]
          },
          "execution_count": 4,
          "metadata": {},
          "output_type": "execute_result"
        }
      ],
      "source": [
        "#Q19 What index cna produce output: array([4,6])\n",
        "b"
      ]
    },
    {
      "cell_type": "code",
      "execution_count": null,
      "metadata": {
        "colab": {
          "base_uri": "https://localhost:8080/"
        },
        "id": "VFqd40Bnszn_",
        "outputId": "15e6ee56-aaee-41db-a1b4-05449dae591a"
      },
      "outputs": [
        {
          "data": {
            "text/plain": [
              "array([4, 6])"
            ]
          },
          "execution_count": 20,
          "metadata": {},
          "output_type": "execute_result"
        }
      ],
      "source": [
        "b[0,1,0:3:2]"
      ]
    },
    {
      "cell_type": "code",
      "execution_count": null,
      "metadata": {
        "colab": {
          "base_uri": "https://localhost:8080/"
        },
        "id": "ZlOvfdleyKf0",
        "outputId": "0c5a2700-dec1-4536-de1a-2ecf097618a0"
      },
      "outputs": [
        {
          "data": {
            "text/plain": [
              "array([[ 1,  5,  9],\n",
              "       [13, 17, 21]])"
            ]
          },
          "execution_count": 21,
          "metadata": {},
          "output_type": "execute_result"
        }
      ],
      "source": [
        "#Q20 Check the output of b[... , 1]\n",
        "b[... , 1]"
      ]
    },
    {
      "cell_type": "code",
      "execution_count": null,
      "metadata": {
        "colab": {
          "background_save": true,
          "base_uri": "https://localhost:8080/"
        },
        "id": "JObEZO3buGU2",
        "outputId": "e0ee4018-edf5-4d19-cb77-cd04126537fe"
      },
      "outputs": [
        {
          "ename": "NameError",
          "evalue": "ignored",
          "output_type": "error",
          "traceback": [
            "\u001b[0;31m---------------------------------------------------------------------------\u001b[0m",
            "\u001b[0;31mNameError\u001b[0m                                 Traceback (most recent call last)",
            "\u001b[0;32m<ipython-input-3-8b2d5d4999a0>\u001b[0m in \u001b[0;36m<module>\u001b[0;34m()\u001b[0m\n\u001b[1;32m      1\u001b[0m \u001b[0;31m#Q21 What indexcan produce output: array ([1,5,9])\u001b[0m\u001b[0;34m\u001b[0m\u001b[0;34m\u001b[0m\u001b[0;34m\u001b[0m\u001b[0m\n\u001b[0;32m----> 2\u001b[0;31m \u001b[0mb\u001b[0m\u001b[0;34m[\u001b[0m\u001b[0;36m0\u001b[0m\u001b[0;34m]\u001b[0m\u001b[0;34m[\u001b[0m\u001b[0;34m...\u001b[0m \u001b[0;34m,\u001b[0m \u001b[0;36m1\u001b[0m\u001b[0;34m]\u001b[0m\u001b[0;34m\u001b[0m\u001b[0;34m\u001b[0m\u001b[0m\n\u001b[0m",
            "\u001b[0;31mNameError\u001b[0m: name 'b' is not defined"
          ]
        }
      ],
      "source": [
        "#Q21 What indexcan produce output: array ([1,5,9])\n",
        "b[0][... , 1]"
      ]
    },
    {
      "cell_type": "code",
      "execution_count": null,
      "metadata": {
        "colab": {
          "base_uri": "https://localhost:8080/"
        },
        "id": "q6pvrUeBuL7y",
        "outputId": "4359b33a-e5ff-4626-bb83-399952db829e"
      },
      "outputs": [
        {
          "data": {
            "text/plain": [
              "array([4, 6])"
            ]
          },
          "execution_count": 112,
          "metadata": {},
          "output_type": "execute_result"
        }
      ],
      "source": [
        "#Q22\n",
        "a[0,1,0:3:2]"
      ]
    },
    {
      "cell_type": "code",
      "execution_count": null,
      "metadata": {
        "colab": {
          "base_uri": "https://localhost:8080/"
        },
        "id": "ImkOougnVAbB",
        "outputId": "b0ccf954-7765-4f29-e3e7-c5db3accf2ce"
      },
      "outputs": [
        {
          "data": {
            "text/plain": [
              "array([ 3, 11])"
            ]
          },
          "execution_count": 6,
          "metadata": {},
          "output_type": "execute_result"
        }
      ],
      "source": [
        "#Q23\n",
        "b[0,[0,2],3]"
      ]
    },
    {
      "cell_type": "code",
      "execution_count": null,
      "metadata": {
        "colab": {
          "base_uri": "https://localhost:8080/"
        },
        "id": "esUcp_T1VNiJ",
        "outputId": "e37327b6-264d-493b-e8ca-7028f04b63d1"
      },
      "outputs": [
        {
          "data": {
            "text/plain": [
              "array([ 2,  6, 10])"
            ]
          },
          "execution_count": 7,
          "metadata": {},
          "output_type": "execute_result"
        }
      ],
      "source": [
        "#Q24\n",
        "b[0,:,-2]"
      ]
    },
    {
      "cell_type": "code",
      "execution_count": null,
      "metadata": {
        "colab": {
          "base_uri": "https://localhost:8080/"
        },
        "id": "0SpZcKoLvlKG",
        "outputId": "d2ae2a4a-b4ce-48d0-9736-8a5fa30dd5b3"
      },
      "outputs": [
        {
          "data": {
            "text/plain": [
              "array([ 0,  1,  2,  3,  4,  5,  6,  7,  8,  9, 10, 11, 12, 13, 14, 15, 16,\n",
              "       17, 18, 19, 20, 21, 22, 23])"
            ]
          },
          "execution_count": 23,
          "metadata": {},
          "output_type": "execute_result"
        }
      ],
      "source": [
        "#Q25 Use function ravel() with array b, and observe the output\n",
        "b.ravel()"
      ]
    },
    {
      "cell_type": "code",
      "execution_count": null,
      "metadata": {
        "colab": {
          "base_uri": "https://localhost:8080/"
        },
        "id": "LuavoPa9yckJ",
        "outputId": "5400e89a-22be-4f16-f0bc-72633a141297"
      },
      "outputs": [
        {
          "data": {
            "text/plain": [
              "array([ 0,  1,  2,  3,  4,  5,  6,  7,  8,  9, 10, 11, 12, 13, 14, 15, 16,\n",
              "       17, 18, 19, 20, 21, 22, 23])"
            ]
          },
          "execution_count": 24,
          "metadata": {},
          "output_type": "execute_result"
        }
      ],
      "source": [
        "#Q26 Use function flatten() with array b, and observe the output\n",
        "b.flatten()"
      ]
    },
    {
      "cell_type": "code",
      "execution_count": null,
      "metadata": {
        "colab": {
          "base_uri": "https://localhost:8080/"
        },
        "id": "lsxYnEOyvkXB",
        "outputId": "93323ad7-5b26-4a92-8a2d-1aac6418c478"
      },
      "outputs": [
        {
          "data": {
            "text/plain": [
              "array([[[ 0, 12],\n",
              "        [ 4, 16],\n",
              "        [ 8, 20]],\n",
              "\n",
              "       [[ 1, 13],\n",
              "        [ 5, 17],\n",
              "        [ 9, 21]],\n",
              "\n",
              "       [[ 2, 14],\n",
              "        [ 6, 18],\n",
              "        [10, 22]],\n",
              "\n",
              "       [[ 3, 15],\n",
              "        [ 7, 19],\n",
              "        [11, 23]]])"
            ]
          },
          "execution_count": 5,
          "metadata": {},
          "output_type": "execute_result"
        }
      ],
      "source": [
        "#Q27 Use function transpose() with array b, check the output \n",
        "b.transpose()"
      ]
    },
    {
      "cell_type": "code",
      "execution_count": null,
      "metadata": {
        "colab": {
          "base_uri": "https://localhost:8080/"
        },
        "id": "rM4qq6BEU95y",
        "outputId": "be94ec95-bcca-4dbc-ecf3-f8f1cdb7ee61"
      },
      "outputs": [
        {
          "data": {
            "text/plain": [
              "array([[[ 0, 12],\n",
              "        [ 4, 16],\n",
              "        [ 8, 20]],\n",
              "\n",
              "       [[ 1, 13],\n",
              "        [ 5, 17],\n",
              "        [ 9, 21]],\n",
              "\n",
              "       [[ 2, 14],\n",
              "        [ 6, 18],\n",
              "        [10, 22]],\n",
              "\n",
              "       [[ 3, 15],\n",
              "        [ 7, 19],\n",
              "        [11, 23]]])"
            ]
          },
          "execution_count": 9,
          "metadata": {},
          "output_type": "execute_result"
        }
      ],
      "source": [
        "#Q28 Use function T() with array b, check the output\n",
        "b.T"
      ]
    },
    {
      "cell_type": "code",
      "execution_count": null,
      "metadata": {
        "colab": {
          "base_uri": "https://localhost:8080/"
        },
        "id": "B87wPiwBVdu6",
        "outputId": "7c34563c-7c52-414f-d3cb-4c9cd719919c"
      },
      "outputs": [
        {
          "data": {
            "text/plain": [
              "array([ 0, 10, 20, 30])"
            ]
          },
          "execution_count": 17,
          "metadata": {},
          "output_type": "execute_result"
        }
      ],
      "source": [
        "#Q29 Use function concatenate on two arrays with axis 0, and axis 1 and observe the output:\n",
        "# i.e np.concatenate((arr1,arr2),axis=0) & np.concatenate((arr1,arr2),axis=1)\n",
        "arr1 = np.array([0,10])\n",
        "arr2 = np.array([20,30])\n",
        "np.concatenate((arr1,arr2), axis=0)"
      ]
    },
    {
      "cell_type": "code",
      "execution_count": null,
      "metadata": {
        "colab": {
          "base_uri": "https://localhost:8080/"
        },
        "id": "P3ZF8UgcVxg6",
        "outputId": "488b0ebf-33a3-4aed-aba9-418996b89120"
      },
      "outputs": [
        {
          "name": "stdout",
          "output_type": "stream",
          "text": [
            "[[0. 1.]\n",
            " [2. 3.]\n",
            " [4. 5.]]\n",
            "[[False  True]\n",
            " [ True  True]\n",
            " [ True  True]]\n"
          ]
        }
      ],
      "source": [
        "#Q30 Use function astype() to convert the array to an array on another type\n",
        "# A=array([[0, 1], [2, 3],[4, 5]])\n",
        "# A.astype(float) or A.astype(‘f’) or A.astype(‘float64’)\n",
        "# A.astype(bool) \n",
        "A = np.array([[0,1],[2,3],[4,5]])\n",
        "print(A.astype(float))\n",
        "print(A.astype(bool))"
      ]
    },
    {
      "cell_type": "code",
      "execution_count": null,
      "metadata": {
        "colab": {
          "base_uri": "https://localhost:8080/"
        },
        "id": "IBRgvi3HWz5o",
        "outputId": "de376c1c-6d7b-4004-e641-0b7970853cef"
      },
      "outputs": [
        {
          "data": {
            "text/plain": [
              "array([[1., 0., 0.],\n",
              "       [0., 1., 0.],\n",
              "       [0., 0., 1.]])"
            ]
          },
          "execution_count": 21,
          "metadata": {},
          "output_type": "execute_result"
        }
      ],
      "source": [
        "#Q31 Check the output of “ np.eye(3)” and “np.zeros(3)” \n",
        "np.eye(3)"
      ]
    },
    {
      "cell_type": "code",
      "execution_count": null,
      "metadata": {
        "colab": {
          "base_uri": "https://localhost:8080/"
        },
        "id": "o8LWUqOOXQk1",
        "outputId": "be090c5a-5d86-4766-ffca-9e4e1e9a5a99"
      },
      "outputs": [
        {
          "data": {
            "text/plain": [
              "array([0., 0., 0.])"
            ]
          },
          "execution_count": 22,
          "metadata": {},
          "output_type": "execute_result"
        }
      ],
      "source": [
        "np.zeros(3)"
      ]
    },
    {
      "cell_type": "code",
      "execution_count": null,
      "metadata": {
        "colab": {
          "base_uri": "https://localhost:8080/"
        },
        "id": "UNTyXi8wXUJQ",
        "outputId": "54fe8178-6e01-4d00-a230-3458dd472d33"
      },
      "outputs": [
        {
          "name": "stdout",
          "output_type": "stream",
          "text": [
            "0 5 5.0\n"
          ]
        }
      ],
      "source": [
        "#Q32 Find minimum, maximum, and average of an array\n",
        "print(A.min(), A.max(), A.sum()/len(A))"
      ]
    },
    {
      "cell_type": "code",
      "execution_count": null,
      "metadata": {
        "colab": {
          "base_uri": "https://localhost:8080/"
        },
        "id": "cVtv2rQyXvFN",
        "outputId": "a689d6b7-6294-4799-ef5e-e6b52f32e579"
      },
      "outputs": [
        {
          "data": {
            "text/plain": [
              "array([[125, 150],\n",
              "       [350, 425]])"
            ]
          },
          "execution_count": 25,
          "metadata": {},
          "output_type": "execute_result"
        }
      ],
      "source": [
        "#Q33 Find matrix multiplication user dot function \n",
        "arr1 = np.array([[0,5],[5,10]])\n",
        "arr2 = np.array([[20,25],[25,30]])\n",
        "arr1.dot(arr2)"
      ]
    },
    {
      "cell_type": "code",
      "execution_count": null,
      "metadata": {
        "colab": {
          "base_uri": "https://localhost:8080/"
        },
        "id": "XUQ_002wYEaA",
        "outputId": "b0bba6e4-c8eb-4bc1-e6ab-c22b3ddeec37"
      },
      "outputs": [
        {
          "data": {
            "text/plain": [
              "array([[  0, 125],\n",
              "       [125, 300]])"
            ]
          },
          "execution_count": 26,
          "metadata": {},
          "output_type": "execute_result"
        }
      ],
      "source": [
        "#Q34 Find element wise multiplication of two matrices using multiply function\n",
        "np.multiply(arr1,arr2)"
      ]
    },
    {
      "cell_type": "code",
      "execution_count": null,
      "metadata": {
        "colab": {
          "base_uri": "https://localhost:8080/"
        },
        "id": "kXQ3fXSKYJnQ",
        "outputId": "d3d39207-9e3e-45d9-c4a4-1b7b46d9a3de"
      },
      "outputs": [
        {
          "data": {
            "text/plain": [
              "dict_keys(['?', 0, 'byte', 'b', 1, 'ubyte', 'B', 2, 'short', 'h', 3, 'ushort', 'H', 4, 'i', 5, 'uint', 'I', 6, 'intp', 'p', 7, 'uintp', 'P', 8, 'long', 'l', 'L', 'longlong', 'q', 9, 'ulonglong', 'Q', 10, 'half', 'e', 23, 'f', 11, 'double', 'd', 12, 'longdouble', 'g', 13, 'cfloat', 'F', 14, 'cdouble', 'D', 15, 'clongdouble', 'G', 16, 'O', 17, 'S', 18, 'unicode', 'U', 19, 'void', 'V', 20, 'M', 21, 'm', 22, 'bool8', 'b1', 'int64', 'i8', 'uint64', 'u8', 'float16', 'f2', 'float32', 'f4', 'float64', 'f8', 'float128', 'f16', 'complex64', 'c8', 'complex128', 'c16', 'complex256', 'c32', 'object0', 'bytes0', 'str0', 'void0', 'datetime64', 'M8', 'timedelta64', 'm8', 'Bytes0', 'Datetime64', 'Str0', 'Uint64', 'int32', 'i4', 'uint32', 'u4', 'int16', 'i2', 'uint16', 'u2', 'int8', 'i1', 'uint8', 'u1', 'complex_', 'int0', 'uint0', 'single', 'csingle', 'singlecomplex', 'float_', 'intc', 'uintc', 'int_', 'longfloat', 'clongfloat', 'longcomplex', 'bool_', 'bytes_', 'string_', 'str_', 'unicode_', 'object_', 'int', 'float', 'complex', 'bool', 'object', 'str', 'bytes', 'a'])"
            ]
          },
          "execution_count": 27,
          "metadata": {},
          "output_type": "execute_result"
        }
      ],
      "source": [
        "#35 Check sctypeDict.keys() and note down the info which you understand properly. \n",
        "np.sctypeDict.keys()"
      ]
    },
    {
      "cell_type": "code",
      "execution_count": null,
      "metadata": {
        "colab": {
          "base_uri": "https://localhost:8080/"
        },
        "id": "qggitYZkYPy_",
        "outputId": "1013c052-da6b-46fe-ae88-2d0c2012264b"
      },
      "outputs": [
        {
          "data": {
            "text/plain": [
              "dtype([('name', '<U40'), ('np_of_items', '<i8'), ('price', '<f8')])"
            ]
          },
          "execution_count": 30,
          "metadata": {},
          "output_type": "execute_result"
        }
      ],
      "source": [
        "#36 Create a new dtype\n",
        "record = np.dtype([('name', str,40), ('np_of_items', int), ('price', float)])\n",
        "record"
      ]
    },
    {
      "cell_type": "code",
      "execution_count": null,
      "metadata": {
        "colab": {
          "base_uri": "https://localhost:8080/"
        },
        "id": "gvcMWpYrYflq",
        "outputId": "b16ee172-668f-4967-8a76-d3cca8e7bd1f"
      },
      "outputs": [
        {
          "data": {
            "text/plain": [
              "array([('life of dvd', 42, 30.5 ), ('Butter', 10, 22.75)],\n",
              "      dtype=[('name', '<U40'), ('np_of_items', '<i8'), ('price', '<f8')])"
            ]
          },
          "execution_count": 31,
          "metadata": {},
          "output_type": "execute_result"
        }
      ],
      "source": [
        "#Q37 Store record type values in variable items, \n",
        "items =np.array([('life of dvd',42,30.50),('Butter',10,22.75)], dtype=record)\n",
        "items"
      ]
    },
    {
      "cell_type": "markdown",
      "source": [
        "Observing the behaviour of the following functions \n",
        "."
      ],
      "metadata": {
        "id": "UfIKKxf60xsj"
      }
    },
    {
      "cell_type": "code",
      "execution_count": null,
      "metadata": {
        "id": "a0qLc13YYx57",
        "colab": {
          "base_uri": "https://localhost:8080/"
        },
        "outputId": "f7e1edef-0eb4-463a-f36e-291d0982e391"
      },
      "outputs": [
        {
          "output_type": "execute_result",
          "data": {
            "text/plain": [
              "array([1, 2, 3])"
            ]
          },
          "metadata": {},
          "execution_count": 2
        }
      ],
      "source": [
        "trr = np.arange(1,4)\n",
        "trr"
      ]
    },
    {
      "cell_type": "code",
      "source": [
        "grr = np.arange(1,10).reshape(3,3)\n",
        "grr"
      ],
      "metadata": {
        "colab": {
          "base_uri": "https://localhost:8080/"
        },
        "id": "1uMz3I0ivSA1",
        "outputId": "abcc7ffc-56f5-482a-a9b7-27b5657b4c34"
      },
      "execution_count": null,
      "outputs": [
        {
          "output_type": "execute_result",
          "data": {
            "text/plain": [
              "array([[1, 2, 3],\n",
              "       [4, 5, 6],\n",
              "       [7, 8, 9]])"
            ]
          },
          "metadata": {},
          "execution_count": 3
        }
      ]
    },
    {
      "cell_type": "code",
      "source": [
        "np.dot(trr,grr)"
      ],
      "metadata": {
        "colab": {
          "base_uri": "https://localhost:8080/"
        },
        "id": "kjf8sWC-vWdM",
        "outputId": "6ab16354-a9b8-44bc-b90c-49ff824fdecf"
      },
      "execution_count": null,
      "outputs": [
        {
          "output_type": "execute_result",
          "data": {
            "text/plain": [
              "array([30, 36, 42])"
            ]
          },
          "metadata": {},
          "execution_count": 5
        }
      ]
    },
    {
      "cell_type": "code",
      "source": [
        "np.cross(trr,grr)"
      ],
      "metadata": {
        "colab": {
          "base_uri": "https://localhost:8080/"
        },
        "id": "qSAx8dp_vX3U",
        "outputId": "8eed8cd9-c9f3-4e64-e937-eadba47d10e5"
      },
      "execution_count": null,
      "outputs": [
        {
          "output_type": "execute_result",
          "data": {
            "text/plain": [
              "array([[ 0,  0,  0],\n",
              "       [-3,  6, -3],\n",
              "       [-6, 12, -6]])"
            ]
          },
          "metadata": {},
          "execution_count": 6
        }
      ]
    },
    {
      "cell_type": "code",
      "source": [
        "np.multiply(trr,grr)"
      ],
      "metadata": {
        "colab": {
          "base_uri": "https://localhost:8080/"
        },
        "id": "HuIIoWBAvaDR",
        "outputId": "1b3e5b7e-4d9c-4292-aa51-67662c008baf"
      },
      "execution_count": null,
      "outputs": [
        {
          "output_type": "execute_result",
          "data": {
            "text/plain": [
              "array([[ 1,  4,  9],\n",
              "       [ 4, 10, 18],\n",
              "       [ 7, 16, 27]])"
            ]
          },
          "metadata": {},
          "execution_count": 7
        }
      ]
    },
    {
      "cell_type": "code",
      "source": [
        "trr*grr"
      ],
      "metadata": {
        "colab": {
          "base_uri": "https://localhost:8080/"
        },
        "id": "8I39IbOmvcj0",
        "outputId": "a401e704-5a84-4b59-c83e-3a0e472ab6bb"
      },
      "execution_count": null,
      "outputs": [
        {
          "output_type": "execute_result",
          "data": {
            "text/plain": [
              "array([[ 1,  4,  9],\n",
              "       [ 4, 10, 18],\n",
              "       [ 7, 16, 27]])"
            ]
          },
          "metadata": {},
          "execution_count": 8
        }
      ]
    },
    {
      "cell_type": "code",
      "source": [
        "trr@grr"
      ],
      "metadata": {
        "colab": {
          "base_uri": "https://localhost:8080/"
        },
        "id": "pdGzMYPmveOm",
        "outputId": "9652b0c8-e65c-4fb0-d03c-d6dd9e53adcf"
      },
      "execution_count": null,
      "outputs": [
        {
          "output_type": "execute_result",
          "data": {
            "text/plain": [
              "array([30, 36, 42])"
            ]
          },
          "metadata": {},
          "execution_count": 9
        }
      ]
    },
    {
      "cell_type": "code",
      "source": [
        ""
      ],
      "metadata": {
        "id": "TeHbIBXpviWM"
      },
      "execution_count": null,
      "outputs": []
    }
  ],
  "metadata": {
    "colab": {
      "name": "NUMPY ipynb",
      "provenance": [],
      "authorship_tag": "ABX9TyMhYfKzC4rfPDZGXlKILGU8",
      "include_colab_link": true
    },
    "kernelspec": {
      "display_name": "Python 3",
      "name": "python3"
    },
    "language_info": {
      "name": "python"
    }
  },
  "nbformat": 4,
  "nbformat_minor": 0
}