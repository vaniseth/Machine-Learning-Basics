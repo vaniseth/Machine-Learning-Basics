{
  "nbformat": 4,
  "nbformat_minor": 0,
  "metadata": {
    "colab": {
      "name": "pandas questions.ipynb",
      "provenance": [],
      "authorship_tag": "ABX9TyNbMFxLsV304sUI/COsjQpx",
      "include_colab_link": true
    },
    "kernelspec": {
      "name": "python3",
      "display_name": "Python 3"
    },
    "language_info": {
      "name": "python"
    }
  },
  "cells": [
    {
      "cell_type": "markdown",
      "metadata": {
        "id": "view-in-github",
        "colab_type": "text"
      },
      "source": [
        "<a href=\"https://colab.research.google.com/github/vaniseth/Machine-Learning-Python-/blob/main/pandas_questions.ipynb\" target=\"_parent\"><img src=\"https://colab.research.google.com/assets/colab-badge.svg\" alt=\"Open In Colab\"/></a>"
      ]
    },
    {
      "cell_type": "code",
      "source": [
        "!pip install pandas"
      ],
      "metadata": {
        "colab": {
          "base_uri": "https://localhost:8080/"
        },
        "id": "zinkYwq8i6Wr",
        "outputId": "7a027ff3-8046-40cd-8da5-419f7cafcb05"
      },
      "execution_count": null,
      "outputs": [
        {
          "output_type": "stream",
          "name": "stdout",
          "text": [
            "Requirement already satisfied: pandas in /usr/local/lib/python3.7/dist-packages (1.3.5)\n",
            "Requirement already satisfied: python-dateutil>=2.7.3 in /usr/local/lib/python3.7/dist-packages (from pandas) (2.8.2)\n",
            "Requirement already satisfied: numpy>=1.17.3 in /usr/local/lib/python3.7/dist-packages (from pandas) (1.21.5)\n",
            "Requirement already satisfied: pytz>=2017.3 in /usr/local/lib/python3.7/dist-packages (from pandas) (2018.9)\n",
            "Requirement already satisfied: six>=1.5 in /usr/local/lib/python3.7/dist-packages (from python-dateutil>=2.7.3->pandas) (1.15.0)\n"
          ]
        }
      ]
    },
    {
      "cell_type": "code",
      "execution_count": 2,
      "metadata": {
        "id": "oARqUn_Bg6nq"
      },
      "outputs": [],
      "source": [
        "import pandas as pd\n",
        "import numpy as np"
      ]
    },
    {
      "cell_type": "code",
      "source": [
        "pd.__version__"
      ],
      "metadata": {
        "colab": {
          "base_uri": "https://localhost:8080/",
          "height": 35
        },
        "id": "fA7h5AJZkRkw",
        "outputId": "1a0e626c-a834-4225-b0c7-7255a9b6c951"
      },
      "execution_count": 2,
      "outputs": [
        {
          "output_type": "execute_result",
          "data": {
            "application/vnd.google.colaboratory.intrinsic+json": {
              "type": "string"
            },
            "text/plain": [
              "'1.3.5'"
            ]
          },
          "metadata": {},
          "execution_count": 2
        }
      ]
    },
    {
      "cell_type": "code",
      "source": [
        "#Q1 Create a simple Pandas Series from a list.\n",
        "ser = pd.Series([1,2,3,4])\n",
        "ser"
      ],
      "metadata": {
        "colab": {
          "base_uri": "https://localhost:8080/",
          "height": 0
        },
        "id": "FWO_LcbZhY2C",
        "outputId": "c3ee27fc-814c-4721-e548-14f000fdd814"
      },
      "execution_count": 3,
      "outputs": [
        {
          "output_type": "execute_result",
          "data": {
            "text/plain": [
              "0    1\n",
              "1    2\n",
              "2    3\n",
              "3    4\n",
              "dtype: int64"
            ]
          },
          "metadata": {},
          "execution_count": 3
        }
      ]
    },
    {
      "cell_type": "code",
      "source": [
        "#Q2 Return the first and last values of the Series created above\n",
        "print(ser[0])\n",
        "print(ser[3])"
      ],
      "metadata": {
        "colab": {
          "base_uri": "https://localhost:8080/",
          "height": 0
        },
        "id": "3meYo0DwhnIy",
        "outputId": "bb9ee649-33e7-4495-e946-1cee0d66a777"
      },
      "execution_count": 4,
      "outputs": [
        {
          "output_type": "stream",
          "name": "stdout",
          "text": [
            "1\n",
            "4\n"
          ]
        }
      ]
    },
    {
      "cell_type": "code",
      "source": [
        "#Q3 Create a simple Pandas Series with your own labels i.e. index\n",
        "info = np.array([1,2,3,4])\n",
        "s = pd.Series(info, index = ['a', 'b', 'c', 'd'])\n",
        "s"
      ],
      "metadata": {
        "colab": {
          "base_uri": "https://localhost:8080/",
          "height": 0
        },
        "id": "C-ma2Y-BiEhk",
        "outputId": "664764c7-0da7-4fc7-d77d-7cefd02a582e"
      },
      "execution_count": 5,
      "outputs": [
        {
          "output_type": "execute_result",
          "data": {
            "text/plain": [
              "a    1\n",
              "b    2\n",
              "c    3\n",
              "d    4\n",
              "dtype: int64"
            ]
          },
          "metadata": {},
          "execution_count": 5
        }
      ]
    },
    {
      "cell_type": "code",
      "source": [
        "#Q4 Access the values using your own index and print the value, also try –ve index.\n",
        "print(s['a'])\n",
        "print(s['c'])"
      ],
      "metadata": {
        "colab": {
          "base_uri": "https://localhost:8080/",
          "height": 0
        },
        "id": "9zTo6QSki1qG",
        "outputId": "ccde23ae-542d-4663-b119-1407d2a118a0"
      },
      "execution_count": 6,
      "outputs": [
        {
          "output_type": "stream",
          "name": "stdout",
          "text": [
            "1\n",
            "3\n"
          ]
        }
      ]
    },
    {
      "cell_type": "code",
      "source": [
        "#Q4 part 2\n",
        "info2 = np.array(['a', 'b', 'c', 'd'])\n",
        "S = pd.Series(info2, index = [1,2,3,4])\n",
        "S"
      ],
      "metadata": {
        "colab": {
          "base_uri": "https://localhost:8080/",
          "height": 0
        },
        "id": "hSecoolHjEmb",
        "outputId": "f8b03929-95c6-4a56-af88-a47212b8052b"
      },
      "execution_count": 7,
      "outputs": [
        {
          "output_type": "execute_result",
          "data": {
            "text/plain": [
              "1    a\n",
              "2    b\n",
              "3    c\n",
              "4    d\n",
              "dtype: object"
            ]
          },
          "metadata": {},
          "execution_count": 7
        }
      ]
    },
    {
      "cell_type": "code",
      "source": [
        "#Q5 Create a simple Pandas Series from a dictionary\n",
        "dict = {1:'A', 2:'B', 3:'C', 4:'D'}\n",
        "ser = pd.Series(dict)\n",
        "ser"
      ],
      "metadata": {
        "colab": {
          "base_uri": "https://localhost:8080/",
          "height": 0
        },
        "id": "m7loUkQwjv6k",
        "outputId": "63129ab2-a75b-495a-af67-c0168b516645"
      },
      "execution_count": 8,
      "outputs": [
        {
          "output_type": "execute_result",
          "data": {
            "text/plain": [
              "1    A\n",
              "2    B\n",
              "3    C\n",
              "4    D\n",
              "dtype: object"
            ]
          },
          "metadata": {},
          "execution_count": 8
        }
      ]
    },
    {
      "cell_type": "code",
      "source": [
        "#Q6 Create a Series using only calories intake data from user defined indexes \"day1\",\"day2\", and \"day3\".\n",
        "Calories = pd.Series([350,500,700], index = ['day1', 'day2', 'day3'])\n",
        "Calories"
      ],
      "metadata": {
        "id": "C9-2lDebjywk",
        "colab": {
          "base_uri": "https://localhost:8080/",
          "height": 0
        },
        "outputId": "4f8d597b-3cd0-4307-ddf9-a27ac00aa264"
      },
      "execution_count": 11,
      "outputs": [
        {
          "output_type": "execute_result",
          "data": {
            "text/plain": [
              "day1    350\n",
              "day2    500\n",
              "day3    700\n",
              "dtype: int64"
            ]
          },
          "metadata": {},
          "execution_count": 11
        }
      ]
    },
    {
      "cell_type": "code",
      "source": [
        "#Q7 Create a Series of heterogeneous data types and check the data type of the Series as well as individual\n",
        "# items.\n",
        "S = pd.Series([1,2,'a',3.14])\n",
        "S"
      ],
      "metadata": {
        "id": "4MU2NcdpwGUT",
        "colab": {
          "base_uri": "https://localhost:8080/",
          "height": 0
        },
        "outputId": "a4c6c2c3-4138-425d-ba1a-4093b04dc0a2"
      },
      "execution_count": 13,
      "outputs": [
        {
          "output_type": "execute_result",
          "data": {
            "text/plain": [
              "0       1\n",
              "1       2\n",
              "2       a\n",
              "3    3.14\n",
              "dtype: object"
            ]
          },
          "metadata": {},
          "execution_count": 13
        }
      ]
    },
    {
      "cell_type": "code",
      "source": [
        "#Q7 part2\n",
        "print(type(S[0]))\n",
        "print(type(S[2]))\n",
        "print(type(S[3]))"
      ],
      "metadata": {
        "colab": {
          "base_uri": "https://localhost:8080/",
          "height": 0
        },
        "id": "vFzvBe6fSQPS",
        "outputId": "948662e2-c7c6-4925-9cc2-3b3d43eb69eb"
      },
      "execution_count": 14,
      "outputs": [
        {
          "output_type": "stream",
          "name": "stdout",
          "text": [
            "<class 'int'>\n",
            "<class 'str'>\n",
            "<class 'float'>\n"
          ]
        }
      ]
    },
    {
      "cell_type": "code",
      "source": [
        "#Q8 Compute min, max, mean values of a Series\n",
        "S1 = pd.Series([65,76,22,90,2])\n",
        "print(S1.min())\n",
        "print(S1.max())\n",
        "print(S1.mean())"
      ],
      "metadata": {
        "colab": {
          "base_uri": "https://localhost:8080/",
          "height": 0
        },
        "id": "onL1Sv7xSiRZ",
        "outputId": "4034692e-1175-484e-c4e9-0f8bf95ea336"
      },
      "execution_count": 16,
      "outputs": [
        {
          "output_type": "stream",
          "name": "stdout",
          "text": [
            "2\n",
            "90\n",
            "51.0\n"
          ]
        }
      ]
    },
    {
      "cell_type": "code",
      "source": [
        "#Q9 Compute the relative change percentage in values of a Series.\n",
        "S1=pd.Series([65,76,22,90,2])\n",
        "print(S1.pct_change())"
      ],
      "metadata": {
        "colab": {
          "base_uri": "https://localhost:8080/",
          "height": 0
        },
        "id": "MXJVAke-S9Ow",
        "outputId": "7060f0c6-def2-4b6b-ba1d-d9accb4f7137"
      },
      "execution_count": 17,
      "outputs": [
        {
          "output_type": "stream",
          "name": "stdout",
          "text": [
            "0         NaN\n",
            "1    0.169231\n",
            "2   -0.710526\n",
            "3    3.090909\n",
            "4   -0.977778\n",
            "dtype: float64\n"
          ]
        }
      ]
    },
    {
      "cell_type": "code",
      "source": [
        "# Q10. Add items in a Series from another Series.\n",
        "S1 = pd.Series([1,2,3,4])\n",
        "S2 = pd.Series([6,7,8,9])\n",
        "\n",
        "S1 = S1.append(S2, ignore_index = True)\n",
        "S1"
      ],
      "metadata": {
        "colab": {
          "base_uri": "https://localhost:8080/",
          "height": 0
        },
        "id": "v3ADjR45TswI",
        "outputId": "53c77035-4753-44a9-de90-410420abaaed"
      },
      "execution_count": 19,
      "outputs": [
        {
          "output_type": "execute_result",
          "data": {
            "text/plain": [
              "0    1\n",
              "1    2\n",
              "2    3\n",
              "3    4\n",
              "4    6\n",
              "5    7\n",
              "6    8\n",
              "7    9\n",
              "dtype: int64"
            ]
          },
          "metadata": {},
          "execution_count": 19
        }
      ]
    },
    {
      "cell_type": "code",
      "source": [
        "# Q11.Create a Series of 20 items and print first 5 and last 5 elements of this Series. (use head and tail)\n",
        "S1 = pd.Series([1,2,3,4,5,6,7,8,9,10,11,12,13,14,15,16,17,18,19,20])\n",
        "print(S1.head(5), S1.tail(5))"
      ],
      "metadata": {
        "colab": {
          "base_uri": "https://localhost:8080/",
          "height": 0
        },
        "id": "fupJOC1cUZ1F",
        "outputId": "e5938170-b93b-4e8e-d6c6-040b7f4e53e1"
      },
      "execution_count": 20,
      "outputs": [
        {
          "output_type": "stream",
          "name": "stdout",
          "text": [
            "0    1\n",
            "1    2\n",
            "2    3\n",
            "3    4\n",
            "4    5\n",
            "dtype: int64 15    16\n",
            "16    17\n",
            "17    18\n",
            "18    19\n",
            "19    20\n",
            "dtype: int64\n"
          ]
        }
      ]
    },
    {
      "cell_type": "code",
      "source": [
        "# Q12.Assign new index to existing series.\n",
        "s = pd.Series([1,2,3,4])\n",
        "s.index = ['a','b','c','d']\n",
        "s"
      ],
      "metadata": {
        "colab": {
          "base_uri": "https://localhost:8080/",
          "height": 0
        },
        "id": "ArQO5nAVU_ne",
        "outputId": "cc392695-c6bc-480e-ced3-9b813acd6df0"
      },
      "execution_count": 28,
      "outputs": [
        {
          "output_type": "execute_result",
          "data": {
            "text/plain": [
              "a    1\n",
              "b    2\n",
              "c    3\n",
              "d    4\n",
              "dtype: int64"
            ]
          },
          "metadata": {},
          "execution_count": 28
        }
      ]
    },
    {
      "cell_type": "code",
      "source": [
        "# Q13.Reset the index of an existing Series and delete the existing index.\n",
        "s.reset_index()\n",
        "s.drop(columns='index', axis=1, inplace = True)"
      ],
      "metadata": {
        "id": "QLek2QU8VNdu"
      },
      "execution_count": 36,
      "outputs": []
    },
    {
      "cell_type": "code",
      "source": [
        "# Q14.Sort the values of a Series in ascending and descending order and print\n",
        "s1 = pd.Series([43,1,78,6,89])\n",
        "s1.sort_values()"
      ],
      "metadata": {
        "colab": {
          "base_uri": "https://localhost:8080/",
          "height": 0
        },
        "id": "9DWUm6KDVmqB",
        "outputId": "fc5d27c7-fde2-4778-d093-c3e9b441da76"
      },
      "execution_count": 8,
      "outputs": [
        {
          "output_type": "execute_result",
          "data": {
            "text/plain": [
              "1     1\n",
              "3     6\n",
              "0    43\n",
              "2    78\n",
              "4    89\n",
              "dtype: int64"
            ]
          },
          "metadata": {},
          "execution_count": 8
        }
      ]
    },
    {
      "cell_type": "code",
      "source": [
        "print(s1.sort_values(ascending = False))"
      ],
      "metadata": {
        "colab": {
          "base_uri": "https://localhost:8080/",
          "height": 0
        },
        "id": "sacdYM839gc1",
        "outputId": "88a40a4f-d2e6-41f4-c266-09045fb9ec1d"
      },
      "execution_count": 9,
      "outputs": [
        {
          "output_type": "stream",
          "name": "stdout",
          "text": [
            "4    89\n",
            "2    78\n",
            "0    43\n",
            "3     6\n",
            "1     1\n",
            "dtype: int64\n"
          ]
        }
      ]
    },
    {
      "cell_type": "code",
      "source": [
        "#Q15 Print the number of occurrences of unique values in a series. (use value_counts)\n",
        "s1.value_counts()"
      ],
      "metadata": {
        "colab": {
          "base_uri": "https://localhost:8080/",
          "height": 0
        },
        "id": "p_l12OA9BLik",
        "outputId": "dec0c918-28cd-472e-be1c-ebe9bf7c5a85"
      },
      "execution_count": 10,
      "outputs": [
        {
          "output_type": "execute_result",
          "data": {
            "text/plain": [
              "43    1\n",
              "1     1\n",
              "78    1\n",
              "6     1\n",
              "89    1\n",
              "dtype: int64"
            ]
          },
          "metadata": {},
          "execution_count": 10
        }
      ]
    },
    {
      "cell_type": "code",
      "source": [
        "s2 = pd.Series([1,2,1,3,2,5])\n",
        "s2.value_counts()"
      ],
      "metadata": {
        "colab": {
          "base_uri": "https://localhost:8080/",
          "height": 0
        },
        "id": "jPbRi-MvBSlm",
        "outputId": "648e2fb5-9265-49bc-9346-0d5dc20d6820"
      },
      "execution_count": 14,
      "outputs": [
        {
          "output_type": "execute_result",
          "data": {
            "text/plain": [
              "1    2\n",
              "2    2\n",
              "3    1\n",
              "5    1\n",
              "dtype: int64"
            ]
          },
          "metadata": {},
          "execution_count": 14
        }
      ]
    },
    {
      "cell_type": "code",
      "source": [
        "#Q16 Create a Series of 10 integers, and later change its dtype to float (use astype).\n",
        "s3 = pd.Series([1,2,3,4,5,6,7,8,9,10])\n",
        "s3"
      ],
      "metadata": {
        "colab": {
          "base_uri": "https://localhost:8080/",
          "height": 0
        },
        "id": "s3ZGRkfIBbpp",
        "outputId": "78472ef7-6772-4c94-f5e0-46881d9bd3ee"
      },
      "execution_count": 58,
      "outputs": [
        {
          "output_type": "execute_result",
          "data": {
            "text/plain": [
              "0     1\n",
              "1     2\n",
              "2     3\n",
              "3     4\n",
              "4     5\n",
              "5     6\n",
              "6     7\n",
              "7     8\n",
              "8     9\n",
              "9    10\n",
              "dtype: int64"
            ]
          },
          "metadata": {},
          "execution_count": 58
        }
      ]
    },
    {
      "cell_type": "code",
      "source": [
        "s3.astype(float)"
      ],
      "metadata": {
        "colab": {
          "base_uri": "https://localhost:8080/",
          "height": 0
        },
        "id": "nMRQJucLBr_i",
        "outputId": "e92e6631-b6cd-4847-b977-4236268466df"
      },
      "execution_count": 59,
      "outputs": [
        {
          "output_type": "execute_result",
          "data": {
            "text/plain": [
              "0     1.0\n",
              "1     2.0\n",
              "2     3.0\n",
              "3     4.0\n",
              "4     5.0\n",
              "5     6.0\n",
              "6     7.0\n",
              "7     8.0\n",
              "8     9.0\n",
              "9    10.0\n",
              "dtype: float64"
            ]
          },
          "metadata": {},
          "execution_count": 59
        }
      ]
    },
    {
      "cell_type": "code",
      "source": [
        "#Q17 Convert the Sereis you created aboove to numpy array (use to_numpy(), or array)\n",
        "s3.to_numpy()"
      ],
      "metadata": {
        "colab": {
          "base_uri": "https://localhost:8080/",
          "height": 0
        },
        "id": "MU1sbi-ABvy3",
        "outputId": "fb8dec05-58d1-4de9-98f7-8d60067e2570"
      },
      "execution_count": 60,
      "outputs": [
        {
          "output_type": "execute_result",
          "data": {
            "text/plain": [
              "array([ 1,  2,  3,  4,  5,  6,  7,  8,  9, 10])"
            ]
          },
          "metadata": {},
          "execution_count": 60
        }
      ]
    },
    {
      "cell_type": "code",
      "source": [
        "#Q18 Delete an item from Series using single index.\n",
        "s4 = pd.Series([12,13,14,15])\n",
        "s4.drop(index =1)"
      ],
      "metadata": {
        "colab": {
          "base_uri": "https://localhost:8080/",
          "height": 0
        },
        "id": "QrmrGg2fB7Ha",
        "outputId": "156f2a5d-dd20-4aae-8154-e51ba5eb0a6a"
      },
      "execution_count": 23,
      "outputs": [
        {
          "output_type": "execute_result",
          "data": {
            "text/plain": [
              "0    12\n",
              "2    14\n",
              "3    15\n",
              "dtype: int64"
            ]
          },
          "metadata": {},
          "execution_count": 23
        }
      ]
    },
    {
      "cell_type": "code",
      "source": [
        "#Q19 Find the number of items in a series. (use len or count)\n",
        "s4.count()"
      ],
      "metadata": {
        "colab": {
          "base_uri": "https://localhost:8080/",
          "height": 0
        },
        "id": "9ncPuJ05CKZZ",
        "outputId": "35597c95-0e3c-4048-a88d-23d8f6efaecf"
      },
      "execution_count": 26,
      "outputs": [
        {
          "output_type": "execute_result",
          "data": {
            "text/plain": [
              "4"
            ]
          },
          "metadata": {},
          "execution_count": 26
        }
      ]
    },
    {
      "cell_type": "code",
      "source": [
        "#Q20 Append Series by assigning a value to a new index. (S[n]=v)\n",
        "s4[4] = 19\n",
        "s4"
      ],
      "metadata": {
        "colab": {
          "base_uri": "https://localhost:8080/",
          "height": 0
        },
        "id": "Zgng5jgUCdEN",
        "outputId": "62033a88-6cad-456f-cf40-eb2aacf4f0b3"
      },
      "execution_count": 27,
      "outputs": [
        {
          "output_type": "execute_result",
          "data": {
            "text/plain": [
              "0    12\n",
              "1    13\n",
              "2    14\n",
              "3    15\n",
              "4    19\n",
              "dtype: int64"
            ]
          },
          "metadata": {},
          "execution_count": 27
        }
      ]
    },
    {
      "cell_type": "code",
      "source": [
        "#Q21 Check if a value is present in a Series. (Use type cast to a set or check in values)\n",
        "12 in s4.values"
      ],
      "metadata": {
        "colab": {
          "base_uri": "https://localhost:8080/",
          "height": 0
        },
        "id": "xQEljWdhDDKO",
        "outputId": "362c9fcc-3686-4073-c546-e41489497399"
      },
      "execution_count": 33,
      "outputs": [
        {
          "output_type": "execute_result",
          "data": {
            "text/plain": [
              "True"
            ]
          },
          "metadata": {},
          "execution_count": 33
        }
      ]
    },
    {
      "cell_type": "code",
      "source": [
        "#Q22 Print the index of a Series and also if all indexes appear only once. (use is_unique.)\n",
        "print(s4.index)"
      ],
      "metadata": {
        "colab": {
          "base_uri": "https://localhost:8080/",
          "height": 0
        },
        "id": "cvcsDqyeDTN_",
        "outputId": "93297c55-f65e-42f1-a6d0-a5942b11a961"
      },
      "execution_count": 35,
      "outputs": [
        {
          "output_type": "stream",
          "name": "stdout",
          "text": [
            "Int64Index([0, 1, 2, 3, 4], dtype='int64')\n"
          ]
        }
      ]
    },
    {
      "cell_type": "code",
      "source": [
        "#Q23 Create two Series one with default index, other with index like ‘a’,’b’,’c’,’d’, etc. then access both the\n",
        "# Series based on label and position (use iloc for index position, and loc for index labels)\n",
        "s5 = pd.Series([1,2,3,4])\n",
        "s6 = pd.Series([10,11,12,13], index = ['a','b','c','d'])"
      ],
      "metadata": {
        "id": "h8FV_Jy8ESJh"
      },
      "execution_count": 37,
      "outputs": []
    },
    {
      "cell_type": "code",
      "source": [
        "s6.loc['a']"
      ],
      "metadata": {
        "colab": {
          "base_uri": "https://localhost:8080/",
          "height": 0
        },
        "id": "MMeCG_bPE6oy",
        "outputId": "51999f24-059e-43d7-f9c4-d5236f8f8253"
      },
      "execution_count": 48,
      "outputs": [
        {
          "output_type": "execute_result",
          "data": {
            "text/plain": [
              "10"
            ]
          },
          "metadata": {},
          "execution_count": 48
        }
      ]
    },
    {
      "cell_type": "code",
      "source": [
        "print(s6.loc['a'], s6.loc['c'])\n",
        "print(s5.iloc[3], s5.iloc[0])"
      ],
      "metadata": {
        "colab": {
          "base_uri": "https://localhost:8080/",
          "height": 0
        },
        "id": "2gAgI3kQFDSZ",
        "outputId": "ebddd971-0dc5-45b4-b028-f2a0413a6034"
      },
      "execution_count": 51,
      "outputs": [
        {
          "output_type": "stream",
          "name": "stdout",
          "text": [
            "10 12\n",
            "4 1\n"
          ]
        }
      ]
    },
    {
      "cell_type": "code",
      "source": [
        "#Q24 Try function at and iat on above problem and observe the difference in output with respect to loc \n",
        "# and iloc.\n",
        "print(s5.iat[2])\n",
        "print(s6.at['b'])"
      ],
      "metadata": {
        "colab": {
          "base_uri": "https://localhost:8080/",
          "height": 0
        },
        "id": "x-BWbeBTGFCu",
        "outputId": "aee68382-b99b-4e65-81c9-7abc8093186a"
      },
      "execution_count": 57,
      "outputs": [
        {
          "output_type": "stream",
          "name": "stdout",
          "text": [
            "3\n",
            "11\n"
          ]
        }
      ]
    }
  ]
}