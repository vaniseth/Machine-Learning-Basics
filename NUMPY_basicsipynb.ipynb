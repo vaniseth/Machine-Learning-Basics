{
  "nbformat": 4,
  "nbformat_minor": 0,
  "metadata": {
    "colab": {
      "name": "NUMPY basicsipynb",
      "provenance": [],
      "authorship_tag": "ABX9TyPQBULTbjKFqzatyIZG8N5x",
      "include_colab_link": true
    },
    "kernelspec": {
      "name": "python3",
      "display_name": "Python 3"
    },
    "language_info": {
      "name": "python"
    }
  },
  "cells": [
    {
      "cell_type": "markdown",
      "metadata": {
        "id": "view-in-github",
        "colab_type": "text"
      },
      "source": [
        "<a href=\"https://colab.research.google.com/github/vaniseth/Machine-Learning-Python-/blob/main/NUMPY_basicsipynb.ipynb\" target=\"_parent\"><img src=\"https://colab.research.google.com/assets/colab-badge.svg\" alt=\"Open In Colab\"/></a>"
      ]
    },
    {
      "cell_type": "code",
      "execution_count": null,
      "metadata": {
        "colab": {
          "base_uri": "https://localhost:8080/"
        },
        "id": "ZruzdK5qdKKE",
        "outputId": "8bbc2c40-a6ac-4802-cad7-9a71e28920f9"
      },
      "outputs": [
        {
          "output_type": "stream",
          "name": "stdout",
          "text": [
            "Requirement already satisfied: numpy in /usr/local/lib/python3.7/dist-packages (1.21.5)\n"
          ]
        }
      ],
      "source": [
        "!pip install numpy "
      ]
    },
    {
      "cell_type": "code",
      "source": [
        "import numpy as np"
      ],
      "metadata": {
        "id": "Tirz5HOZdTSL"
      },
      "execution_count": null,
      "outputs": []
    },
    {
      "cell_type": "code",
      "source": [
        "np.__version__"
      ],
      "metadata": {
        "colab": {
          "base_uri": "https://localhost:8080/",
          "height": 35
        },
        "id": "JWmd0fYkdxta",
        "outputId": "4b7a080a-48a7-4e7b-9ad4-3727a146a093"
      },
      "execution_count": null,
      "outputs": [
        {
          "output_type": "execute_result",
          "data": {
            "application/vnd.google.colaboratory.intrinsic+json": {
              "type": "string"
            },
            "text/plain": [
              "'1.21.5'"
            ]
          },
          "metadata": {},
          "execution_count": 4
        }
      ]
    },
    {
      "cell_type": "code",
      "source": [
        "arr = np.array([1,2,3,4])"
      ],
      "metadata": {
        "id": "mrkJ75kId68x"
      },
      "execution_count": null,
      "outputs": []
    },
    {
      "cell_type": "code",
      "source": [
        "lst = [1,2,3,4]\n",
        "arr = np.array(lst, dtype = 'int16')\n",
        "print(arr)"
      ],
      "metadata": {
        "colab": {
          "base_uri": "https://localhost:8080/"
        },
        "id": "pX1v-Ok4eREU",
        "outputId": "90126e90-4ea5-488c-dead-87712bd589c5"
      },
      "execution_count": null,
      "outputs": [
        {
          "output_type": "stream",
          "name": "stdout",
          "text": [
            "[1 2 3 4]\n"
          ]
        }
      ]
    },
    {
      "cell_type": "code",
      "source": [
        "tup = (1,2,3,4)\n",
        "arr = np.array(tup)\n",
        "print(arr)"
      ],
      "metadata": {
        "colab": {
          "base_uri": "https://localhost:8080/"
        },
        "id": "6OZAgzkgeXkm",
        "outputId": "ec8b19eb-4144-4d25-e9d4-7252761507de"
      },
      "execution_count": null,
      "outputs": [
        {
          "output_type": "stream",
          "name": "stdout",
          "text": [
            "[1 2 3 4]\n"
          ]
        }
      ]
    },
    {
      "cell_type": "code",
      "source": [
        "print(np.arange(1,50,3))"
      ],
      "metadata": {
        "colab": {
          "base_uri": "https://localhost:8080/"
        },
        "id": "LbvYjKQLfDlA",
        "outputId": "508f2694-18d5-435f-f1fd-4d82823255be"
      },
      "execution_count": null,
      "outputs": [
        {
          "output_type": "stream",
          "name": "stdout",
          "text": [
            "[ 1  4  7 10 13 16 19 22 25 28 31 34 37 40 43 46 49]\n"
          ]
        }
      ]
    },
    {
      "cell_type": "code",
      "source": [
        "print(np.arange(1,2,0.1))"
      ],
      "metadata": {
        "colab": {
          "base_uri": "https://localhost:8080/"
        },
        "id": "1qzifSdqfU93",
        "outputId": "43245875-5472-40be-b626-1a71a6b71cb4"
      },
      "execution_count": null,
      "outputs": [
        {
          "output_type": "stream",
          "name": "stdout",
          "text": [
            "[1.  1.1 1.2 1.3 1.4 1.5 1.6 1.7 1.8 1.9]\n"
          ]
        }
      ]
    },
    {
      "cell_type": "code",
      "source": [
        "#Q8\n",
        "lst = [1, 2.4, 3, 4.5]\n",
        "print(np.array(lst))"
      ],
      "metadata": {
        "colab": {
          "base_uri": "https://localhost:8080/"
        },
        "id": "4xcCOd_ggFOq",
        "outputId": "fcf4b427-7eda-4810-b4d3-7a06adb7245f"
      },
      "execution_count": null,
      "outputs": [
        {
          "output_type": "stream",
          "name": "stdout",
          "text": [
            "[1.  2.4 3.  4.5]\n"
          ]
        }
      ]
    },
    {
      "cell_type": "code",
      "source": [
        "#Q9\n",
        "lst = [1,2.6,5,6.8, 'vaani']\n",
        "print(np.array(lst))"
      ],
      "metadata": {
        "colab": {
          "base_uri": "https://localhost:8080/"
        },
        "id": "6iC8z-KahXFd",
        "outputId": "d5c6094a-248f-49de-d606-221fa2f7500f"
      },
      "execution_count": null,
      "outputs": [
        {
          "output_type": "stream",
          "name": "stdout",
          "text": [
            "['1' '2.6' '5' '6.8' 'vaani']\n"
          ]
        }
      ]
    },
    {
      "cell_type": "code",
      "source": [
        "#Q10\n",
        "arr = np.array([[1,2],[3,4]])\n",
        "arr"
      ],
      "metadata": {
        "colab": {
          "base_uri": "https://localhost:8080/"
        },
        "id": "pb5qp4l-iKph",
        "outputId": "02de34d7-7bc2-469d-ef5b-c89196e77f44"
      },
      "execution_count": null,
      "outputs": [
        {
          "output_type": "execute_result",
          "data": {
            "text/plain": [
              "array([[1, 2],\n",
              "       [3, 4]])"
            ]
          },
          "metadata": {},
          "execution_count": 26
        }
      ]
    },
    {
      "cell_type": "code",
      "source": [
        "arr = np.array([[1,2],[3,4]])\n",
        "print(arr)\n",
        "print(arr.shape)\n",
        "print(arr.itemsize)\n",
        "print(arr.nbytes)"
      ],
      "metadata": {
        "colab": {
          "base_uri": "https://localhost:8080/"
        },
        "id": "5pwNFsWDjTeg",
        "outputId": "b856a167-a99a-4e81-9816-a10dca340348"
      },
      "execution_count": null,
      "outputs": [
        {
          "output_type": "stream",
          "name": "stdout",
          "text": [
            "[[1 2]\n",
            " [3 4]]\n",
            "(2, 2)\n",
            "8\n",
            "32\n"
          ]
        }
      ]
    },
    {
      "cell_type": "code",
      "source": [
        "arr = np.array([[1,2],[3,4]])\n",
        "print(type(arr))"
      ],
      "metadata": {
        "colab": {
          "base_uri": "https://localhost:8080/"
        },
        "id": "r-T5tweOkoLR",
        "outputId": "c2df501e-cd46-4efa-ced4-8eb74e86aba3"
      },
      "execution_count": null,
      "outputs": [
        {
          "output_type": "stream",
          "name": "stdout",
          "text": [
            "<class 'numpy.ndarray'>\n"
          ]
        }
      ]
    },
    {
      "cell_type": "code",
      "source": [
        "#Q13\n",
        "arr = np.array([[1,2,3],[4,5,6],[6,7,8]])\n",
        "print(arr)\n",
        "\n",
        "r1 = arr[:1]\n",
        "r1\n",
        "\n",
        "\n"
      ],
      "metadata": {
        "colab": {
          "base_uri": "https://localhost:8080/"
        },
        "id": "50-2YQ0hk6OY",
        "outputId": "f382283b-fcef-4ce9-c2e9-b263404d7795"
      },
      "execution_count": null,
      "outputs": [
        {
          "output_type": "stream",
          "name": "stdout",
          "text": [
            "[[1 2 3]\n",
            " [4 5 6]\n",
            " [6 7 8]]\n"
          ]
        },
        {
          "output_type": "execute_result",
          "data": {
            "text/plain": [
              "array([[1, 2, 3]])"
            ]
          },
          "metadata": {},
          "execution_count": 49
        }
      ]
    },
    {
      "cell_type": "code",
      "source": [
        "r2 = arr[:2]\n",
        "r2"
      ],
      "metadata": {
        "colab": {
          "base_uri": "https://localhost:8080/"
        },
        "id": "4bemhxqJlY6w",
        "outputId": "d34ee1ea-4214-4e03-cfa9-4f2b81353138"
      },
      "execution_count": null,
      "outputs": [
        {
          "output_type": "execute_result",
          "data": {
            "text/plain": [
              "array([[1, 2, 3],\n",
              "       [4, 5, 6]])"
            ]
          },
          "metadata": {},
          "execution_count": 48
        }
      ]
    },
    {
      "cell_type": "code",
      "source": [
        "r3 = arr[:3]\n",
        "r3"
      ],
      "metadata": {
        "colab": {
          "base_uri": "https://localhost:8080/"
        },
        "id": "HSA4DpAvn2Hs",
        "outputId": "13ed433e-5f5c-4668-8bc2-f0ecf3785d89"
      },
      "execution_count": null,
      "outputs": [
        {
          "output_type": "execute_result",
          "data": {
            "text/plain": [
              "array([[1, 2, 3],\n",
              "       [4, 5, 6],\n",
              "       [6, 7, 8]])"
            ]
          },
          "metadata": {},
          "execution_count": 47
        }
      ]
    },
    {
      "cell_type": "code",
      "source": [
        "#Q14\n",
        "a = np.arange(0,24)\n",
        "b= a.reshape(2,3,4)\n",
        "b"
      ],
      "metadata": {
        "colab": {
          "base_uri": "https://localhost:8080/"
        },
        "id": "lciCzekan53e",
        "outputId": "a79509d7-f89a-4f31-b5a7-485c6380cac8"
      },
      "execution_count": null,
      "outputs": [
        {
          "output_type": "execute_result",
          "data": {
            "text/plain": [
              "array([[[ 0,  1,  2,  3],\n",
              "        [ 4,  5,  6,  7],\n",
              "        [ 8,  9, 10, 11]],\n",
              "\n",
              "       [[12, 13, 14, 15],\n",
              "        [16, 17, 18, 19],\n",
              "        [20, 21, 22, 23]]])"
            ]
          },
          "metadata": {},
          "execution_count": 3
        }
      ]
    },
    {
      "cell_type": "code",
      "source": [
        "#Q15\n",
        "b[0]"
      ],
      "metadata": {
        "colab": {
          "base_uri": "https://localhost:8080/"
        },
        "id": "l7YnwUvCpmOU",
        "outputId": "aba7bb15-960b-4fee-d185-7160ec89b070"
      },
      "execution_count": null,
      "outputs": [
        {
          "output_type": "execute_result",
          "data": {
            "text/plain": [
              "array([[ 0,  1,  2,  3],\n",
              "       [ 4,  5,  6,  7],\n",
              "       [ 8,  9, 10, 11]])"
            ]
          },
          "metadata": {},
          "execution_count": 14
        }
      ]
    },
    {
      "cell_type": "code",
      "source": [
        "#Q16\n",
        "b[0,0,0]"
      ],
      "metadata": {
        "id": "cRucabFOqwzN",
        "colab": {
          "base_uri": "https://localhost:8080/"
        },
        "outputId": "04ecec22-c9ce-4ccc-d23a-ba3136c5f7db"
      },
      "execution_count": null,
      "outputs": [
        {
          "output_type": "execute_result",
          "data": {
            "text/plain": [
              "0"
            ]
          },
          "metadata": {},
          "execution_count": 15
        }
      ]
    },
    {
      "cell_type": "code",
      "source": [
        "#Q17\n",
        "b[0,1]"
      ],
      "metadata": {
        "colab": {
          "base_uri": "https://localhost:8080/"
        },
        "id": "Li67TUX-rhQL",
        "outputId": "cdc7f8ca-82a6-45ea-df52-4d98c4c7b4f8"
      },
      "execution_count": null,
      "outputs": [
        {
          "output_type": "execute_result",
          "data": {
            "text/plain": [
              "array([4, 5, 6, 7])"
            ]
          },
          "metadata": {},
          "execution_count": 17
        }
      ]
    },
    {
      "cell_type": "code",
      "source": [
        "#Q18\n",
        "b[:,0,0]"
      ],
      "metadata": {
        "colab": {
          "base_uri": "https://localhost:8080/"
        },
        "id": "ssF3mRszsPG9",
        "outputId": "38164683-4716-459a-b62b-e9244e40807a"
      },
      "execution_count": null,
      "outputs": [
        {
          "output_type": "execute_result",
          "data": {
            "text/plain": [
              "array([ 0, 12])"
            ]
          },
          "metadata": {},
          "execution_count": 18
        }
      ]
    },
    {
      "cell_type": "code",
      "source": [
        "# b= a[:,0]\n",
        "# now let say this is b, now we want the first elements of that so we do a[:,0,0]"
      ],
      "metadata": {
        "id": "1FO3gKfbsfd6"
      },
      "execution_count": null,
      "outputs": []
    },
    {
      "cell_type": "code",
      "source": [
        "#Q19\n",
        "b"
      ],
      "metadata": {
        "colab": {
          "base_uri": "https://localhost:8080/"
        },
        "id": "1pXfxKVrskzP",
        "outputId": "4ada06b0-5f6a-4415-bd15-20205ee18fd5"
      },
      "execution_count": null,
      "outputs": [
        {
          "output_type": "execute_result",
          "data": {
            "text/plain": [
              "array([[[ 0,  1,  2,  3],\n",
              "        [ 4,  5,  6,  7],\n",
              "        [ 8,  9, 10, 11]],\n",
              "\n",
              "       [[12, 13, 14, 15],\n",
              "        [16, 17, 18, 19],\n",
              "        [20, 21, 22, 23]]])"
            ]
          },
          "metadata": {},
          "execution_count": 4
        }
      ]
    },
    {
      "cell_type": "code",
      "source": [
        "b[0,1,0:3:2]"
      ],
      "metadata": {
        "colab": {
          "base_uri": "https://localhost:8080/"
        },
        "id": "VFqd40Bnszn_",
        "outputId": "15e6ee56-aaee-41db-a1b4-05449dae591a"
      },
      "execution_count": null,
      "outputs": [
        {
          "output_type": "execute_result",
          "data": {
            "text/plain": [
              "array([4, 6])"
            ]
          },
          "metadata": {},
          "execution_count": 20
        }
      ]
    },
    {
      "cell_type": "code",
      "source": [
        "#Q20\n",
        "b[... , 1]"
      ],
      "metadata": {
        "colab": {
          "base_uri": "https://localhost:8080/"
        },
        "id": "ZlOvfdleyKf0",
        "outputId": "0c5a2700-dec1-4536-de1a-2ecf097618a0"
      },
      "execution_count": null,
      "outputs": [
        {
          "output_type": "execute_result",
          "data": {
            "text/plain": [
              "array([[ 1,  5,  9],\n",
              "       [13, 17, 21]])"
            ]
          },
          "metadata": {},
          "execution_count": 21
        }
      ]
    },
    {
      "cell_type": "code",
      "source": [
        "#Q21\n",
        "b[0][... , 1]"
      ],
      "metadata": {
        "colab": {
          "base_uri": "https://localhost:8080/"
        },
        "id": "JObEZO3buGU2",
        "outputId": "f63a1558-597e-4166-9b6a-be17b0b6fb50"
      },
      "execution_count": null,
      "outputs": [
        {
          "output_type": "execute_result",
          "data": {
            "text/plain": [
              "array([1, 5, 9])"
            ]
          },
          "metadata": {},
          "execution_count": 22
        }
      ]
    },
    {
      "cell_type": "code",
      "source": [
        "#Q22\n",
        "a[0,1,0:3:2]"
      ],
      "metadata": {
        "colab": {
          "base_uri": "https://localhost:8080/"
        },
        "id": "q6pvrUeBuL7y",
        "outputId": "4359b33a-e5ff-4626-bb83-399952db829e"
      },
      "execution_count": null,
      "outputs": [
        {
          "output_type": "execute_result",
          "data": {
            "text/plain": [
              "array([4, 6])"
            ]
          },
          "metadata": {},
          "execution_count": 112
        }
      ]
    },
    {
      "cell_type": "code",
      "source": [
        "#Q23\n",
        "b[0,[0,2],3]"
      ],
      "metadata": {
        "colab": {
          "base_uri": "https://localhost:8080/"
        },
        "id": "ImkOougnVAbB",
        "outputId": "b0ccf954-7765-4f29-e3e7-c5db3accf2ce"
      },
      "execution_count": null,
      "outputs": [
        {
          "output_type": "execute_result",
          "data": {
            "text/plain": [
              "array([ 3, 11])"
            ]
          },
          "metadata": {},
          "execution_count": 6
        }
      ]
    },
    {
      "cell_type": "code",
      "source": [
        "#Q24\n",
        "b[0,:,-2]"
      ],
      "metadata": {
        "colab": {
          "base_uri": "https://localhost:8080/"
        },
        "id": "esUcp_T1VNiJ",
        "outputId": "e37327b6-264d-493b-e8ca-7028f04b63d1"
      },
      "execution_count": null,
      "outputs": [
        {
          "output_type": "execute_result",
          "data": {
            "text/plain": [
              "array([ 2,  6, 10])"
            ]
          },
          "metadata": {},
          "execution_count": 7
        }
      ]
    },
    {
      "cell_type": "code",
      "source": [
        "#Q25\n",
        "b.ravel()"
      ],
      "metadata": {
        "colab": {
          "base_uri": "https://localhost:8080/"
        },
        "id": "0SpZcKoLvlKG",
        "outputId": "d2ae2a4a-b4ce-48d0-9736-8a5fa30dd5b3"
      },
      "execution_count": null,
      "outputs": [
        {
          "output_type": "execute_result",
          "data": {
            "text/plain": [
              "array([ 0,  1,  2,  3,  4,  5,  6,  7,  8,  9, 10, 11, 12, 13, 14, 15, 16,\n",
              "       17, 18, 19, 20, 21, 22, 23])"
            ]
          },
          "metadata": {},
          "execution_count": 23
        }
      ]
    },
    {
      "cell_type": "code",
      "source": [
        "#Q26\n",
        "b.flatten()"
      ],
      "metadata": {
        "id": "LuavoPa9yckJ",
        "colab": {
          "base_uri": "https://localhost:8080/"
        },
        "outputId": "5400e89a-22be-4f16-f0bc-72633a141297"
      },
      "execution_count": null,
      "outputs": [
        {
          "output_type": "execute_result",
          "data": {
            "text/plain": [
              "array([ 0,  1,  2,  3,  4,  5,  6,  7,  8,  9, 10, 11, 12, 13, 14, 15, 16,\n",
              "       17, 18, 19, 20, 21, 22, 23])"
            ]
          },
          "metadata": {},
          "execution_count": 24
        }
      ]
    },
    {
      "cell_type": "code",
      "source": [
        "#Q27\n",
        "b.transpose()"
      ],
      "metadata": {
        "id": "lsxYnEOyvkXB",
        "colab": {
          "base_uri": "https://localhost:8080/"
        },
        "outputId": "93323ad7-5b26-4a92-8a2d-1aac6418c478"
      },
      "execution_count": null,
      "outputs": [
        {
          "output_type": "execute_result",
          "data": {
            "text/plain": [
              "array([[[ 0, 12],\n",
              "        [ 4, 16],\n",
              "        [ 8, 20]],\n",
              "\n",
              "       [[ 1, 13],\n",
              "        [ 5, 17],\n",
              "        [ 9, 21]],\n",
              "\n",
              "       [[ 2, 14],\n",
              "        [ 6, 18],\n",
              "        [10, 22]],\n",
              "\n",
              "       [[ 3, 15],\n",
              "        [ 7, 19],\n",
              "        [11, 23]]])"
            ]
          },
          "metadata": {},
          "execution_count": 5
        }
      ]
    },
    {
      "cell_type": "code",
      "source": [
        "#Q28\n",
        "b.T"
      ],
      "metadata": {
        "colab": {
          "base_uri": "https://localhost:8080/"
        },
        "id": "rM4qq6BEU95y",
        "outputId": "be94ec95-bcca-4dbc-ecf3-f8f1cdb7ee61"
      },
      "execution_count": null,
      "outputs": [
        {
          "output_type": "execute_result",
          "data": {
            "text/plain": [
              "array([[[ 0, 12],\n",
              "        [ 4, 16],\n",
              "        [ 8, 20]],\n",
              "\n",
              "       [[ 1, 13],\n",
              "        [ 5, 17],\n",
              "        [ 9, 21]],\n",
              "\n",
              "       [[ 2, 14],\n",
              "        [ 6, 18],\n",
              "        [10, 22]],\n",
              "\n",
              "       [[ 3, 15],\n",
              "        [ 7, 19],\n",
              "        [11, 23]]])"
            ]
          },
          "metadata": {},
          "execution_count": 9
        }
      ]
    },
    {
      "cell_type": "code",
      "source": [
        "#Q29\n",
        "arr1 = np.array([0,10])\n",
        "arr2 = np.array([20,30])\n",
        "np.concatenate((arr1,arr2), axis=0)"
      ],
      "metadata": {
        "colab": {
          "base_uri": "https://localhost:8080/"
        },
        "id": "B87wPiwBVdu6",
        "outputId": "7c34563c-7c52-414f-d3cb-4c9cd719919c"
      },
      "execution_count": null,
      "outputs": [
        {
          "output_type": "execute_result",
          "data": {
            "text/plain": [
              "array([ 0, 10, 20, 30])"
            ]
          },
          "metadata": {},
          "execution_count": 17
        }
      ]
    },
    {
      "cell_type": "code",
      "source": [
        "#Q30\n",
        "A = np.array([[0,1],[2,3],[4,5]])\n",
        "print(A.astype(float))\n",
        "print(A.astype(bool))"
      ],
      "metadata": {
        "colab": {
          "base_uri": "https://localhost:8080/"
        },
        "id": "P3ZF8UgcVxg6",
        "outputId": "488b0ebf-33a3-4aed-aba9-418996b89120"
      },
      "execution_count": null,
      "outputs": [
        {
          "output_type": "stream",
          "name": "stdout",
          "text": [
            "[[0. 1.]\n",
            " [2. 3.]\n",
            " [4. 5.]]\n",
            "[[False  True]\n",
            " [ True  True]\n",
            " [ True  True]]\n"
          ]
        }
      ]
    },
    {
      "cell_type": "code",
      "source": [
        "#Q31\n",
        "np.eye(3)"
      ],
      "metadata": {
        "colab": {
          "base_uri": "https://localhost:8080/"
        },
        "id": "IBRgvi3HWz5o",
        "outputId": "de376c1c-6d7b-4004-e641-0b7970853cef"
      },
      "execution_count": null,
      "outputs": [
        {
          "output_type": "execute_result",
          "data": {
            "text/plain": [
              "array([[1., 0., 0.],\n",
              "       [0., 1., 0.],\n",
              "       [0., 0., 1.]])"
            ]
          },
          "metadata": {},
          "execution_count": 21
        }
      ]
    },
    {
      "cell_type": "code",
      "source": [
        "np.zeros(3)"
      ],
      "metadata": {
        "colab": {
          "base_uri": "https://localhost:8080/"
        },
        "id": "o8LWUqOOXQk1",
        "outputId": "be090c5a-5d86-4766-ffca-9e4e1e9a5a99"
      },
      "execution_count": null,
      "outputs": [
        {
          "output_type": "execute_result",
          "data": {
            "text/plain": [
              "array([0., 0., 0.])"
            ]
          },
          "metadata": {},
          "execution_count": 22
        }
      ]
    },
    {
      "cell_type": "code",
      "source": [
        "#Q32\n",
        "print(A.min(), A.max(), A.sum()/len(A))"
      ],
      "metadata": {
        "colab": {
          "base_uri": "https://localhost:8080/"
        },
        "id": "UNTyXi8wXUJQ",
        "outputId": "54fe8178-6e01-4d00-a230-3458dd472d33"
      },
      "execution_count": null,
      "outputs": [
        {
          "output_type": "stream",
          "name": "stdout",
          "text": [
            "0 5 5.0\n"
          ]
        }
      ]
    },
    {
      "cell_type": "code",
      "source": [
        "#Q33\n",
        "arr1 = np.array([[0,5],[5,10]])\n",
        "arr2 = np.array([[20,25],[25,30]])\n",
        "arr1.dot(arr2)"
      ],
      "metadata": {
        "colab": {
          "base_uri": "https://localhost:8080/"
        },
        "id": "cVtv2rQyXvFN",
        "outputId": "a689d6b7-6294-4799-ef5e-e6b52f32e579"
      },
      "execution_count": null,
      "outputs": [
        {
          "output_type": "execute_result",
          "data": {
            "text/plain": [
              "array([[125, 150],\n",
              "       [350, 425]])"
            ]
          },
          "metadata": {},
          "execution_count": 25
        }
      ]
    },
    {
      "cell_type": "code",
      "source": [
        "#Q34\n",
        "np.multiply(arr1,arr2)"
      ],
      "metadata": {
        "colab": {
          "base_uri": "https://localhost:8080/"
        },
        "id": "XUQ_002wYEaA",
        "outputId": "b0bba6e4-c8eb-4bc1-e6ab-c22b3ddeec37"
      },
      "execution_count": null,
      "outputs": [
        {
          "output_type": "execute_result",
          "data": {
            "text/plain": [
              "array([[  0, 125],\n",
              "       [125, 300]])"
            ]
          },
          "metadata": {},
          "execution_count": 26
        }
      ]
    },
    {
      "cell_type": "code",
      "source": [
        "#35\n",
        "np.sctypeDict.keys()"
      ],
      "metadata": {
        "colab": {
          "base_uri": "https://localhost:8080/"
        },
        "id": "kXQ3fXSKYJnQ",
        "outputId": "d3d39207-9e3e-45d9-c4a4-1b7b46d9a3de"
      },
      "execution_count": null,
      "outputs": [
        {
          "output_type": "execute_result",
          "data": {
            "text/plain": [
              "dict_keys(['?', 0, 'byte', 'b', 1, 'ubyte', 'B', 2, 'short', 'h', 3, 'ushort', 'H', 4, 'i', 5, 'uint', 'I', 6, 'intp', 'p', 7, 'uintp', 'P', 8, 'long', 'l', 'L', 'longlong', 'q', 9, 'ulonglong', 'Q', 10, 'half', 'e', 23, 'f', 11, 'double', 'd', 12, 'longdouble', 'g', 13, 'cfloat', 'F', 14, 'cdouble', 'D', 15, 'clongdouble', 'G', 16, 'O', 17, 'S', 18, 'unicode', 'U', 19, 'void', 'V', 20, 'M', 21, 'm', 22, 'bool8', 'b1', 'int64', 'i8', 'uint64', 'u8', 'float16', 'f2', 'float32', 'f4', 'float64', 'f8', 'float128', 'f16', 'complex64', 'c8', 'complex128', 'c16', 'complex256', 'c32', 'object0', 'bytes0', 'str0', 'void0', 'datetime64', 'M8', 'timedelta64', 'm8', 'Bytes0', 'Datetime64', 'Str0', 'Uint64', 'int32', 'i4', 'uint32', 'u4', 'int16', 'i2', 'uint16', 'u2', 'int8', 'i1', 'uint8', 'u1', 'complex_', 'int0', 'uint0', 'single', 'csingle', 'singlecomplex', 'float_', 'intc', 'uintc', 'int_', 'longfloat', 'clongfloat', 'longcomplex', 'bool_', 'bytes_', 'string_', 'str_', 'unicode_', 'object_', 'int', 'float', 'complex', 'bool', 'object', 'str', 'bytes', 'a'])"
            ]
          },
          "metadata": {},
          "execution_count": 27
        }
      ]
    },
    {
      "cell_type": "code",
      "source": [
        "#36\n",
        "record = np.dtype([('name', str,40), ('np_of_items', int), ('price', float)])\n",
        "record"
      ],
      "metadata": {
        "colab": {
          "base_uri": "https://localhost:8080/"
        },
        "id": "qggitYZkYPy_",
        "outputId": "1013c052-da6b-46fe-ae88-2d0c2012264b"
      },
      "execution_count": null,
      "outputs": [
        {
          "output_type": "execute_result",
          "data": {
            "text/plain": [
              "dtype([('name', '<U40'), ('np_of_items', '<i8'), ('price', '<f8')])"
            ]
          },
          "metadata": {},
          "execution_count": 30
        }
      ]
    },
    {
      "cell_type": "code",
      "source": [
        "#Q37\n",
        "items =np.array([('life of dvd',42,30.50),('Butter',10,22.75)], dtype=record)\n",
        "items"
      ],
      "metadata": {
        "colab": {
          "base_uri": "https://localhost:8080/"
        },
        "id": "gvcMWpYrYflq",
        "outputId": "b16ee172-668f-4967-8a76-d3cca8e7bd1f"
      },
      "execution_count": null,
      "outputs": [
        {
          "output_type": "execute_result",
          "data": {
            "text/plain": [
              "array([('life of dvd', 42, 30.5 ), ('Butter', 10, 22.75)],\n",
              "      dtype=[('name', '<U40'), ('np_of_items', '<i8'), ('price', '<f8')])"
            ]
          },
          "metadata": {},
          "execution_count": 31
        }
      ]
    },
    {
      "cell_type": "code",
      "source": [
        ""
      ],
      "metadata": {
        "id": "a0qLc13YYx57"
      },
      "execution_count": null,
      "outputs": []
    }
  ]
}